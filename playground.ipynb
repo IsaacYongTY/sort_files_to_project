{
 "metadata": {
  "language_info": {
   "codemirror_mode": {
    "name": "ipython",
    "version": 3
   },
   "file_extension": ".py",
   "mimetype": "text/x-python",
   "name": "python",
   "nbconvert_exporter": "python",
   "pygments_lexer": "ipython3",
   "version": 3
  },
  "orig_nbformat": 2,
  "kernelspec": {
   "name": "python_defaultSpec_1596444904943",
   "display_name": "Python 3.8.2 64-bit"
  }
 },
 "nbformat": 4,
 "nbformat_minor": 2,
 "cells": [
  {
   "cell_type": "code",
   "execution_count": 13,
   "metadata": {},
   "outputs": [],
   "source": [
    "input = \"/Users/isaacyong/Dropbox/夏天的风 IG Spotify.mp4\"\n",
    "project_directory = \"/Users/isaacyong/Dropbox/00_PROJECTS\""
   ]
  },
  {
   "cell_type": "code",
   "execution_count": 14,
   "metadata": {
    "tags": []
   },
   "outputs": [
    {
     "output_type": "stream",
     "name": "stdout",
     "text": "/Users/isaacyong/Dropbox/我爱你 IG Spotify.mp4\n/Users/isaacyong/Dropbox/00_PROJECTS\n"
    }
   ],
   "source": [
    "print(input)\n",
    "print(project_directory)"
   ]
  },
  {
   "cell_type": "code",
   "execution_count": 4,
   "metadata": {},
   "outputs": [
    {
     "output_type": "execute_result",
     "data": {
      "text/plain": "25"
     },
     "metadata": {},
     "execution_count": 4
    }
   ],
   "source": [
    "input.find('我爱你')"
   ]
  },
  {
   "cell_type": "code",
   "execution_count": 9,
   "metadata": {},
   "outputs": [
    {
     "output_type": "execute_result",
     "data": {
      "text/plain": "['playground.ipynb', 'app.py']"
     },
     "metadata": {},
     "execution_count": 9
    }
   ],
   "source": [
    "import os\n",
    "from os import path\n",
    "os.listdir()"
   ]
  },
  {
   "cell_type": "code",
   "execution_count": 15,
   "metadata": {},
   "outputs": [
    {
     "output_type": "execute_result",
     "data": {
      "text/plain": "['Shao Nv 少女 LIVE SHOW',\n 'Ge Qian 搁浅',\n '.DS_Store',\n 'Bie Mian 别勉强 (Aggy)',\n '00_ON HOLD',\n '00_ARCHIVE',\n '000-renaming-script',\n 'Xia Tian 夏天的风',\n 'Lao Jie 老街',\n '00_抖音',\n '00_IDEAS',\n '00_PROJECT_FOLDER_TEMPLATE',\n '00_抖音 Template',\n 'Zai Jian 再见',\n 'Ba Ba 爸爸妈妈',\n 'Huan Ting 幻听',\n 'Yi Wan 一万公里外的你',\n 'Wu Ren 无人之岛']"
     },
     "metadata": {},
     "execution_count": 15
    }
   ],
   "source": [
    "os.listdir(project_directory)"
   ]
  },
  {
   "cell_type": "code",
   "execution_count": 16,
   "metadata": {},
   "outputs": [
    {
     "output_type": "execute_result",
     "data": {
      "text/plain": "'/Users/isaacyong/Dropbox/00_PROJECTS'"
     },
     "metadata": {},
     "execution_count": 16
    }
   ],
   "source": [
    "os.path.abspath(project_directory)"
   ]
  },
  {
   "cell_type": "code",
   "execution_count": 17,
   "metadata": {},
   "outputs": [
    {
     "output_type": "execute_result",
     "data": {
      "text/plain": "'/Users/isaacyong/Dropbox'"
     },
     "metadata": {},
     "execution_count": 17
    }
   ],
   "source": [
    "os.path.dirname(project_directory)"
   ]
  },
  {
   "cell_type": "code",
   "execution_count": 18,
   "metadata": {},
   "outputs": [
    {
     "output_type": "execute_result",
     "data": {
      "text/plain": "('/Users/isaacyong/Dropbox', '00_PROJECTS')"
     },
     "metadata": {},
     "execution_count": 18
    }
   ],
   "source": [
    "os.path.split(project_directory)"
   ]
  },
  {
   "cell_type": "code",
   "execution_count": null,
   "metadata": {},
   "outputs": [],
   "source": []
  }
 ]
}